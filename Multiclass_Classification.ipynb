{
 "cells": [
  {
   "cell_type": "code",
   "execution_count": 1,
   "metadata": {},
   "outputs": [],
   "source": [
    "import pandas as pd"
   ]
  },
  {
   "cell_type": "code",
   "execution_count": 2,
   "metadata": {},
   "outputs": [
    {
     "data": {
      "text/html": [
       "<div>\n",
       "<style scoped>\n",
       "    .dataframe tbody tr th:only-of-type {\n",
       "        vertical-align: middle;\n",
       "    }\n",
       "\n",
       "    .dataframe tbody tr th {\n",
       "        vertical-align: top;\n",
       "    }\n",
       "\n",
       "    .dataframe thead th {\n",
       "        text-align: right;\n",
       "    }\n",
       "</style>\n",
       "<table border=\"1\" class=\"dataframe\">\n",
       "  <thead>\n",
       "    <tr style=\"text-align: right;\">\n",
       "      <th></th>\n",
       "      <th>0</th>\n",
       "      <th>1</th>\n",
       "      <th>2</th>\n",
       "      <th>3</th>\n",
       "      <th>4</th>\n",
       "    </tr>\n",
       "  </thead>\n",
       "  <tbody>\n",
       "    <tr>\n",
       "      <th>43</th>\n",
       "      <td>5.0</td>\n",
       "      <td>3.5</td>\n",
       "      <td>1.6</td>\n",
       "      <td>0.6</td>\n",
       "      <td>Iris-setosa</td>\n",
       "    </tr>\n",
       "    <tr>\n",
       "      <th>55</th>\n",
       "      <td>5.7</td>\n",
       "      <td>2.8</td>\n",
       "      <td>4.5</td>\n",
       "      <td>1.3</td>\n",
       "      <td>Iris-versicolor</td>\n",
       "    </tr>\n",
       "    <tr>\n",
       "      <th>139</th>\n",
       "      <td>6.9</td>\n",
       "      <td>3.1</td>\n",
       "      <td>5.4</td>\n",
       "      <td>2.1</td>\n",
       "      <td>Iris-virginica</td>\n",
       "    </tr>\n",
       "    <tr>\n",
       "      <th>110</th>\n",
       "      <td>6.5</td>\n",
       "      <td>3.2</td>\n",
       "      <td>5.1</td>\n",
       "      <td>2.0</td>\n",
       "      <td>Iris-virginica</td>\n",
       "    </tr>\n",
       "    <tr>\n",
       "      <th>117</th>\n",
       "      <td>7.7</td>\n",
       "      <td>3.8</td>\n",
       "      <td>6.7</td>\n",
       "      <td>2.2</td>\n",
       "      <td>Iris-virginica</td>\n",
       "    </tr>\n",
       "  </tbody>\n",
       "</table>\n",
       "</div>"
      ],
      "text/plain": [
       "       0    1    2    3                4\n",
       "43   5.0  3.5  1.6  0.6      Iris-setosa\n",
       "55   5.7  2.8  4.5  1.3  Iris-versicolor\n",
       "139  6.9  3.1  5.4  2.1   Iris-virginica\n",
       "110  6.5  3.2  5.1  2.0   Iris-virginica\n",
       "117  7.7  3.8  6.7  2.2   Iris-virginica"
      ]
     },
     "execution_count": 2,
     "metadata": {},
     "output_type": "execute_result"
    }
   ],
   "source": [
    "dataset=pd.read_csv('iris.csv',header=None)\n",
    "dataset.sample(5)"
   ]
  },
  {
   "cell_type": "code",
   "execution_count": 3,
   "metadata": {},
   "outputs": [
    {
     "data": {
      "text/plain": [
       "0    0\n",
       "1    0\n",
       "2    0\n",
       "3    0\n",
       "4    0\n",
       "dtype: int64"
      ]
     },
     "execution_count": 3,
     "metadata": {},
     "output_type": "execute_result"
    }
   ],
   "source": [
    "dataset.isna().sum()"
   ]
  },
  {
   "cell_type": "code",
   "execution_count": 4,
   "metadata": {},
   "outputs": [],
   "source": [
    "X=dataset.iloc[:,:4]\n",
    "y=dataset.iloc[:,4]"
   ]
  },
  {
   "cell_type": "code",
   "execution_count": 5,
   "metadata": {},
   "outputs": [],
   "source": [
    "y=pd.get_dummies(y)"
   ]
  },
  {
   "cell_type": "code",
   "execution_count": 6,
   "metadata": {},
   "outputs": [],
   "source": [
    "# def target(name):\n",
    "#     if name=='Iris-virginica':\n",
    "#         return 0\n",
    "#     elif  name=='Iris-setosa':\n",
    "#         return 1\n",
    "#     else:\n",
    "#         return 2\n",
    "# y=y.apply(target)\n",
    "# from sklearn.preprocessing import LabelEncoder,OneHotEncoder\n",
    "# from sklearn.compose import ColumnTransformer\n",
    "# le=LabelEncoder()\n",
    "# y=le.fit_transform(y)"
   ]
  },
  {
   "cell_type": "code",
   "execution_count": 7,
   "metadata": {},
   "outputs": [],
   "source": [
    "from sklearn.model_selection import train_test_split\n",
    "X_train, X_test, y_train, y_test = train_test_split(X, y, test_size = 0.20, random_state = 101)"
   ]
  },
  {
   "cell_type": "code",
   "execution_count": 8,
   "metadata": {},
   "outputs": [],
   "source": [
    "import keras\n",
    "from keras.models import Sequential\n",
    "from keras.layers import Dense\n",
    "model=Sequential()"
   ]
  },
  {
   "cell_type": "code",
   "execution_count": 9,
   "metadata": {},
   "outputs": [],
   "source": [
    "model.add(Dense(4,activation='relu',input_dim=4))\n",
    "model.add(Dense(3,activation='softmax'))"
   ]
  },
  {
   "cell_type": "code",
   "execution_count": 10,
   "metadata": {},
   "outputs": [],
   "source": [
    "opt = keras.optimizers.RMSprop(learning_rate=0.01)\n",
    "model.compile(optimizer = opt, loss = 'categorical_crossentropy', metrics = ['accuracy'])"
   ]
  },
  {
   "cell_type": "code",
   "execution_count": 11,
   "metadata": {},
   "outputs": [
    {
     "name": "stdout",
     "output_type": "stream",
     "text": [
      "Model: \"sequential\"\n",
      "_________________________________________________________________\n",
      "Layer (type)                 Output Shape              Param #   \n",
      "=================================================================\n",
      "dense (Dense)                (None, 4)                 20        \n",
      "_________________________________________________________________\n",
      "dense_1 (Dense)              (None, 3)                 15        \n",
      "=================================================================\n",
      "Total params: 35\n",
      "Trainable params: 35\n",
      "Non-trainable params: 0\n",
      "_________________________________________________________________\n"
     ]
    }
   ],
   "source": [
    "model.summary()"
   ]
  },
  {
   "cell_type": "code",
   "execution_count": 12,
   "metadata": {},
   "outputs": [
    {
     "name": "stdout",
     "output_type": "stream",
     "text": [
      "Epoch 1/60\n",
      "6/6 [==============================] - 0s 5ms/step - loss: 3.4416 - accuracy: 0.3167\n",
      "Epoch 2/60\n",
      "6/6 [==============================] - 0s 3ms/step - loss: 1.8252 - accuracy: 0.3167\n",
      "Epoch 3/60\n",
      "6/6 [==============================] - 0s 5ms/step - loss: 1.0991 - accuracy: 0.3167\n",
      "Epoch 4/60\n",
      "6/6 [==============================] - 0s 7ms/step - loss: 0.8679 - accuracy: 0.4333\n",
      "Epoch 5/60\n",
      "6/6 [==============================] - 0s 6ms/step - loss: 0.7981 - accuracy: 0.7167\n",
      "Epoch 6/60\n",
      "6/6 [==============================] - 0s 6ms/step - loss: 0.7496 - accuracy: 0.7083\n",
      "Epoch 7/60\n",
      "6/6 [==============================] - 0s 4ms/step - loss: 0.7081 - accuracy: 0.7667\n",
      "Epoch 8/60\n",
      "6/6 [==============================] - 0s 7ms/step - loss: 0.6561 - accuracy: 0.7667\n",
      "Epoch 9/60\n",
      "6/6 [==============================] - 0s 7ms/step - loss: 0.6231 - accuracy: 0.7750\n",
      "Epoch 10/60\n",
      "6/6 [==============================] - 0s 5ms/step - loss: 0.5873 - accuracy: 0.8000\n",
      "Epoch 11/60\n",
      "6/6 [==============================] - 0s 6ms/step - loss: 0.5481 - accuracy: 0.7917\n",
      "Epoch 12/60\n",
      "6/6 [==============================] - 0s 7ms/step - loss: 0.5497 - accuracy: 0.7333\n",
      "Epoch 13/60\n",
      "6/6 [==============================] - 0s 11ms/step - loss: 0.4999 - accuracy: 0.7833\n",
      "Epoch 14/60\n",
      "6/6 [==============================] - 0s 4ms/step - loss: 0.4816 - accuracy: 0.8667\n",
      "Epoch 15/60\n",
      "6/6 [==============================] - 0s 8ms/step - loss: 0.4674 - accuracy: 0.8417\n",
      "Epoch 16/60\n",
      "6/6 [==============================] - 0s 14ms/step - loss: 0.4471 - accuracy: 0.8250\n",
      "Epoch 17/60\n",
      "6/6 [==============================] - 0s 8ms/step - loss: 0.4282 - accuracy: 0.9083\n",
      "Epoch 18/60\n",
      "6/6 [==============================] - 0s 9ms/step - loss: 0.4195 - accuracy: 0.8000\n",
      "Epoch 19/60\n",
      "6/6 [==============================] - 0s 4ms/step - loss: 0.4049 - accuracy: 0.8667\n",
      "Epoch 20/60\n",
      "6/6 [==============================] - 0s 8ms/step - loss: 0.3886 - accuracy: 0.9333\n",
      "Epoch 21/60\n",
      "6/6 [==============================] - 0s 6ms/step - loss: 0.3709 - accuracy: 0.9083\n",
      "Epoch 22/60\n",
      "6/6 [==============================] - 0s 5ms/step - loss: 0.3724 - accuracy: 0.8667\n",
      "Epoch 23/60\n",
      "6/6 [==============================] - 0s 5ms/step - loss: 0.3548 - accuracy: 0.9000\n",
      "Epoch 24/60\n",
      "6/6 [==============================] - 0s 4ms/step - loss: 0.3463 - accuracy: 0.9083\n",
      "Epoch 25/60\n",
      "6/6 [==============================] - 0s 5ms/step - loss: 0.3487 - accuracy: 0.9167\n",
      "Epoch 26/60\n",
      "6/6 [==============================] - 0s 3ms/step - loss: 0.3383 - accuracy: 0.9167\n",
      "Epoch 27/60\n",
      "6/6 [==============================] - 0s 3ms/step - loss: 0.3207 - accuracy: 0.9500\n",
      "Epoch 28/60\n",
      "6/6 [==============================] - 0s 5ms/step - loss: 0.3066 - accuracy: 0.9083\n",
      "Epoch 29/60\n",
      "6/6 [==============================] - 0s 6ms/step - loss: 0.3011 - accuracy: 0.9417\n",
      "Epoch 30/60\n",
      "6/6 [==============================] - 0s 7ms/step - loss: 0.2966 - accuracy: 0.9333\n",
      "Epoch 31/60\n",
      "6/6 [==============================] - 0s 5ms/step - loss: 0.2942 - accuracy: 0.9333\n",
      "Epoch 32/60\n",
      "6/6 [==============================] - 0s 4ms/step - loss: 0.3065 - accuracy: 0.8833\n",
      "Epoch 33/60\n",
      "6/6 [==============================] - 0s 3ms/step - loss: 0.2695 - accuracy: 0.9667\n",
      "Epoch 34/60\n",
      "6/6 [==============================] - 0s 4ms/step - loss: 0.2720 - accuracy: 0.9583\n",
      "Epoch 35/60\n",
      "6/6 [==============================] - 0s 4ms/step - loss: 0.2602 - accuracy: 0.9583\n",
      "Epoch 36/60\n",
      "6/6 [==============================] - 0s 3ms/step - loss: 0.2624 - accuracy: 0.9500\n",
      "Epoch 37/60\n",
      "6/6 [==============================] - 0s 4ms/step - loss: 0.2483 - accuracy: 0.9667\n",
      "Epoch 38/60\n",
      "6/6 [==============================] - 0s 5ms/step - loss: 0.2497 - accuracy: 0.9500\n",
      "Epoch 39/60\n",
      "6/6 [==============================] - 0s 11ms/step - loss: 0.2304 - accuracy: 0.9667\n",
      "Epoch 40/60\n",
      "6/6 [==============================] - 0s 7ms/step - loss: 0.2418 - accuracy: 0.9583\n",
      "Epoch 41/60\n",
      "6/6 [==============================] - 0s 4ms/step - loss: 0.2511 - accuracy: 0.9333\n",
      "Epoch 42/60\n",
      "6/6 [==============================] - 0s 5ms/step - loss: 0.2231 - accuracy: 0.9750\n",
      "Epoch 43/60\n",
      "6/6 [==============================] - 0s 4ms/step - loss: 0.2224 - accuracy: 0.9417\n",
      "Epoch 44/60\n",
      "6/6 [==============================] - 0s 7ms/step - loss: 0.2110 - accuracy: 0.9750\n",
      "Epoch 45/60\n",
      "6/6 [==============================] - 0s 4ms/step - loss: 0.2205 - accuracy: 0.9583\n",
      "Epoch 46/60\n",
      "6/6 [==============================] - 0s 3ms/step - loss: 0.1984 - accuracy: 0.9583\n",
      "Epoch 47/60\n",
      "6/6 [==============================] - 0s 4ms/step - loss: 0.2014 - accuracy: 0.9500\n",
      "Epoch 48/60\n",
      "6/6 [==============================] - 0s 6ms/step - loss: 0.1991 - accuracy: 0.9583\n",
      "Epoch 49/60\n",
      "6/6 [==============================] - 0s 4ms/step - loss: 0.2136 - accuracy: 0.9417\n",
      "Epoch 50/60\n",
      "6/6 [==============================] - 0s 4ms/step - loss: 0.1896 - accuracy: 0.9750\n",
      "Epoch 51/60\n",
      "6/6 [==============================] - 0s 3ms/step - loss: 0.1804 - accuracy: 0.9667\n",
      "Epoch 52/60\n",
      "6/6 [==============================] - 0s 5ms/step - loss: 0.1879 - accuracy: 0.9583\n",
      "Epoch 53/60\n",
      "6/6 [==============================] - 0s 6ms/step - loss: 0.1761 - accuracy: 0.9667\n",
      "Epoch 54/60\n",
      "6/6 [==============================] - 0s 6ms/step - loss: 0.1934 - accuracy: 0.9333\n",
      "Epoch 55/60\n",
      "6/6 [==============================] - 0s 4ms/step - loss: 0.1747 - accuracy: 0.9750\n",
      "Epoch 56/60\n",
      "6/6 [==============================] - 0s 5ms/step - loss: 0.1759 - accuracy: 0.9667\n",
      "Epoch 57/60\n",
      "6/6 [==============================] - 0s 3ms/step - loss: 0.1632 - accuracy: 0.9750\n",
      "Epoch 58/60\n",
      "6/6 [==============================] - 0s 5ms/step - loss: 0.1673 - accuracy: 0.9583\n",
      "Epoch 59/60\n",
      "6/6 [==============================] - 0s 5ms/step - loss: 0.1613 - accuracy: 0.9500\n",
      "Epoch 60/60\n",
      "6/6 [==============================] - 0s 5ms/step - loss: 0.1619 - accuracy: 0.9667\n"
     ]
    },
    {
     "data": {
      "text/plain": [
       "<tensorflow.python.keras.callbacks.History at 0x7fa5bc0d57c0>"
      ]
     },
     "execution_count": 12,
     "metadata": {},
     "output_type": "execute_result"
    }
   ],
   "source": [
    "model.fit(X_train, y_train, batch_size = 20, epochs = 60)"
   ]
  },
  {
   "cell_type": "code",
   "execution_count": 13,
   "metadata": {},
   "outputs": [],
   "source": [
    "y_pred=model.predict(X_test)"
   ]
  },
  {
   "cell_type": "code",
   "execution_count": 14,
   "metadata": {},
   "outputs": [],
   "source": [
    "y_pred=(y_pred>0.5)"
   ]
  },
  {
   "cell_type": "code",
   "execution_count": 15,
   "metadata": {},
   "outputs": [
    {
     "name": "stdout",
     "output_type": "stream",
     "text": [
      "Accuracy =  0.9\n"
     ]
    }
   ],
   "source": [
    "from sklearn.metrics import confusion_matrix\n",
    "cm = confusion_matrix(y_test.values.argmax(axis=1), y_pred.argmax(axis=1))\n",
    "\n",
    "print(\"Accuracy = \",(cm[0,0]+cm[1,1]+cm[2,2])/(cm.sum()))"
   ]
  },
  {
   "cell_type": "code",
   "execution_count": 16,
   "metadata": {},
   "outputs": [],
   "source": [
    "# y_test.to_numpy()"
   ]
  },
  {
   "cell_type": "code",
   "execution_count": null,
   "metadata": {},
   "outputs": [],
   "source": []
  }
 ],
 "metadata": {
  "kernelspec": {
   "display_name": "Python 3",
   "language": "python",
   "name": "python3"
  },
  "language_info": {
   "codemirror_mode": {
    "name": "ipython",
    "version": 3
   },
   "file_extension": ".py",
   "mimetype": "text/x-python",
   "name": "python",
   "nbconvert_exporter": "python",
   "pygments_lexer": "ipython3",
   "version": "3.8.5"
  }
 },
 "nbformat": 4,
 "nbformat_minor": 4
}
