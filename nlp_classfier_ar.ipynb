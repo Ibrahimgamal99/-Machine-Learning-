{
 "cells": [
  {
   "cell_type": "code",
   "execution_count": 1,
   "metadata": {},
   "outputs": [],
   "source": [
    "import pandas as pd\n",
    "import nltk \n",
    "import re\n",
    "from nltk.tokenize import sent_tokenize,word_tokenize\n",
    "from nltk.corpus import stopwords\n",
    "from nltk.stem.isri import ISRIStemmer\n",
    "from sklearn.model_selection import train_test_split\n",
    "from sklearn.feature_extraction.text import CountVectorizer\n",
    "from sklearn.naive_bayes import GaussianNB\n",
    "from sklearn.svm import SVC, LinearSVC\n",
    "from sklearn.linear_model import LogisticRegression, SGDClassifier\n",
    "from sklearn.metrics import confusion_matrix"
   ]
  },
  {
   "cell_type": "code",
   "execution_count": 2,
   "metadata": {},
   "outputs": [],
   "source": [
    "clfs=[GaussianNB,SVC,LinearSVC,LogisticRegression,SGDClassifier]"
   ]
  },
  {
   "cell_type": "code",
   "execution_count": 3,
   "metadata": {},
   "outputs": [
    {
     "data": {
      "text/html": [
       "<div>\n",
       "<style scoped>\n",
       "    .dataframe tbody tr th:only-of-type {\n",
       "        vertical-align: middle;\n",
       "    }\n",
       "\n",
       "    .dataframe tbody tr th {\n",
       "        vertical-align: top;\n",
       "    }\n",
       "\n",
       "    .dataframe thead th {\n",
       "        text-align: right;\n",
       "    }\n",
       "</style>\n",
       "<table border=\"1\" class=\"dataframe\">\n",
       "  <thead>\n",
       "    <tr style=\"text-align: right;\">\n",
       "      <th></th>\n",
       "      <th>polarity</th>\n",
       "      <th>text</th>\n",
       "      <th>restaurant_id</th>\n",
       "      <th>user_id</th>\n",
       "    </tr>\n",
       "  </thead>\n",
       "  <tbody>\n",
       "    <tr>\n",
       "      <th>0</th>\n",
       "      <td>-1</td>\n",
       "      <td>اولا: المنيو تغير الشورما اصبحت اعتياديه بأختف...</td>\n",
       "      <td>296</td>\n",
       "      <td>423</td>\n",
       "    </tr>\n",
       "    <tr>\n",
       "      <th>1</th>\n",
       "      <td>-1</td>\n",
       "      <td>من محلات الشاورما ذات الشعبيه لتميز الصلصات ال...</td>\n",
       "      <td>296</td>\n",
       "      <td>423</td>\n",
       "    </tr>\n",
       "    <tr>\n",
       "      <th>2</th>\n",
       "      <td>1</td>\n",
       "      <td>دجاج طازج يحضر امامك على الطلب لا يقوم باعدة ا...</td>\n",
       "      <td>5027</td>\n",
       "      <td>39580</td>\n",
       "    </tr>\n",
       "    <tr>\n",
       "      <th>3</th>\n",
       "      <td>1</td>\n",
       "      <td>فكما تعرف أستراليا بالكنغر والكوالا. فإنها تعر...</td>\n",
       "      <td>642</td>\n",
       "      <td>444</td>\n",
       "    </tr>\n",
       "    <tr>\n",
       "      <th>4</th>\n",
       "      <td>-1</td>\n",
       "      <td>إسمحو لي أن أقيم مطعم هاشم بصفتي فلسطيني عشت ف...</td>\n",
       "      <td>434</td>\n",
       "      <td>2191</td>\n",
       "    </tr>\n",
       "  </tbody>\n",
       "</table>\n",
       "</div>"
      ],
      "text/plain": [
       "   polarity                                               text  restaurant_id  \\\n",
       "0        -1  اولا: المنيو تغير الشورما اصبحت اعتياديه بأختف...            296   \n",
       "1        -1  من محلات الشاورما ذات الشعبيه لتميز الصلصات ال...            296   \n",
       "2         1  دجاج طازج يحضر امامك على الطلب لا يقوم باعدة ا...           5027   \n",
       "3         1  فكما تعرف أستراليا بالكنغر والكوالا. فإنها تعر...            642   \n",
       "4        -1  إسمحو لي أن أقيم مطعم هاشم بصفتي فلسطيني عشت ف...            434   \n",
       "\n",
       "   user_id  \n",
       "0      423  \n",
       "1      423  \n",
       "2    39580  \n",
       "3      444  \n",
       "4     2191  "
      ]
     },
     "execution_count": 3,
     "metadata": {},
     "output_type": "execute_result"
    }
   ],
   "source": [
    "#reading a data\n",
    "dataset = pd.read_csv(\"RES1.csv\",encoding=\"utf-8\")\n",
    "dataset.head()"
   ]
  },
  {
   "cell_type": "code",
   "execution_count": 4,
   "metadata": {},
   "outputs": [],
   "source": [
    "x1,y1=dataset.shape"
   ]
  },
  {
   "cell_type": "code",
   "execution_count": 5,
   "metadata": {},
   "outputs": [],
   "source": [
    "#proccising a data 1-cleaing anything not arabic alphpit 2- stopword 3- steming 4- returning data\n",
    "def preprocess(data):\n",
    "    st=ISRIStemmer()\n",
    "    corpus=[]\n",
    "    for i in range (0,x1):\n",
    "        review=re.sub('[^ء-ي]',' ',data['text'][i])\n",
    "        review=word_tokenize(review)\n",
    "        review = [st.stem(word) for word in review if not word in set(stopwords.words('arabic_ed'))]\n",
    "        review = ' '.join(review)\n",
    "        corpus.append((review,dataset['polarity'][i]))\n",
    "    df_sen=pd.DataFrame(corpus,columns={'text','polarity'})\n",
    "    return df_sen"
   ]
  },
  {
   "cell_type": "code",
   "execution_count": 6,
   "metadata": {},
   "outputs": [],
   "source": [
    "def featureExtraction(df_sen):\n",
    "    cv = CountVectorizer(max_features = 5000)\n",
    "    X = cv.fit_transform(df_sen.iloc[:,0]).toarray()\n",
    "    y = df_sen.iloc[:, 1].values\n",
    "    return X,y"
   ]
  },
  {
   "cell_type": "code",
   "execution_count": 7,
   "metadata": {},
   "outputs": [],
   "source": [
    "# Fitting Naive Bayes to the Training set\n",
    "def model(clf,X,y):\n",
    "    X_train, X_test, y_train, y_test = train_test_split(X, y, test_size = 0.20, random_state = 0)\n",
    "    classifier = clf()\n",
    "    classifier.fit(X_train, y_train)\n",
    "    # Predicting the Test set results\n",
    "    y_pred = classifier.predict(X_test)\n",
    "    cm = confusion_matrix(y_test, y_pred)\n",
    "    print(\"Accuracy = \",(cm[0,0]+cm[1,1])/(cm.sum()))"
   ]
  },
  {
   "cell_type": "code",
   "execution_count": 8,
   "metadata": {},
   "outputs": [],
   "source": [
    "data=preprocess(dataset)\n",
    "X,y=featureExtraction(data)"
   ]
  },
  {
   "cell_type": "code",
   "execution_count": null,
   "metadata": {},
   "outputs": [],
   "source": [
    "clfs=[GaussianNB,SVC,LinearSVC,LogisticRegression,SGDClassifier]\n",
    "for clf in clfs:\n",
    "    model(clf,X,y)"
   ]
  },
  {
   "cell_type": "markdown",
   "metadata": {},
   "source": [
    "#most word common\n",
    "word=nltk.FreqDist(corpus)\n",
    "word.most_common(10)"
   ]
  },
  {
   "cell_type": "code",
   "execution_count": null,
   "metadata": {},
   "outputs": [],
   "source": []
  }
 ],
 "metadata": {
  "kernelspec": {
   "display_name": "Python 3",
   "language": "python",
   "name": "python3"
  },
  "language_info": {
   "codemirror_mode": {
    "name": "ipython",
    "version": 3
   },
   "file_extension": ".py",
   "mimetype": "text/x-python",
   "name": "python",
   "nbconvert_exporter": "python",
   "pygments_lexer": "ipython3",
   "version": "3.6.9"
  }
 },
 "nbformat": 4,
 "nbformat_minor": 2
}
