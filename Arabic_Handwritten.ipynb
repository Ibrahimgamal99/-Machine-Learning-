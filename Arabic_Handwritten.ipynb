{
 "cells": [
  {
   "cell_type": "code",
   "execution_count": 1,
   "metadata": {},
   "outputs": [],
   "source": [
    "import matplotlib.pyplot as plt\n",
    "import numpy as np\n",
    "import pandas as pd\n",
    "from keras.preprocessing.image import ImageDataGenerator,load_img,img_to_array\n",
    "from keras.models import Sequential\n",
    "from keras.layers import Conv2D,Dropout,MaxPooling2D,Flatten,Dense,BatchNormalization\n",
    "import keras\n",
    "import os"
   ]
  },
  {
   "cell_type": "code",
   "execution_count": 2,
   "metadata": {},
   "outputs": [],
   "source": [
    "size=(32,32,1)"
   ]
  },
  {
   "cell_type": "code",
   "execution_count": 3,
   "metadata": {},
   "outputs": [],
   "source": [
    "X_train = os.listdir(\"./archive/Train Images 13440x32x32/train\")\n",
    "X_test=os.listdir(\"./archive/Test Images 3360x32x32/test\")"
   ]
  },
  {
   "cell_type": "code",
   "execution_count": 4,
   "metadata": {},
   "outputs": [],
   "source": [
    "arabic_characters = ['alef', 'beh', 'teh', 'theh', 'jeem', 'hah', 'khah', 'dal', 'thal',\n",
    "                    'reh', 'zain', 'seen', 'sheen', 'sad', 'dad', 'tah', 'zah', 'ain',\n",
    "                    'ghain', 'feh', 'qaf', 'kaf', 'lam', 'meem', 'noon', 'heh', 'waw', 'yeh']"
   ]
  },
  {
   "cell_type": "code",
   "execution_count": 5,
   "metadata": {},
   "outputs": [
    {
     "data": {
      "text/plain": [
       "'beh'"
      ]
     },
     "execution_count": 5,
     "metadata": {},
     "output_type": "execute_result"
    }
   ],
   "source": [
    "ss=\"id_7400_label_1.png\"\n",
    "arabic_characters[int(ss.split('label_')[1].split('.')[0])]"
   ]
  },
  {
   "cell_type": "code",
   "execution_count": 6,
   "metadata": {},
   "outputs": [
    {
     "name": "stdout",
     "output_type": "stream",
     "text": [
      "Size of train 13440\n",
      "Size of test 3360\n"
     ]
    }
   ],
   "source": [
    "y_train = []\n",
    "for filename in X_train:\n",
    "    y_train.append(filename.split('label_')[1].split('.')[0])\n",
    "y_test=[]\n",
    "for filename in X_test:\n",
    "    y_test.append(filename.split('label_')[1].split('.')[0])\n",
    "    \n",
    "\n",
    "print(\"Size of train\",len(y_train))\n",
    "print(\"Size of test\",len(y_test))"
   ]
  },
  {
   "cell_type": "code",
   "execution_count": 7,
   "metadata": {},
   "outputs": [],
   "source": [
    "from sklearn.model_selection import train_test_split\n",
    "X_train, X_val, y_train, y_val = train_test_split(X_train,y_train , test_size = 0.10, random_state = 101)"
   ]
  },
  {
   "cell_type": "code",
   "execution_count": 8,
   "metadata": {},
   "outputs": [],
   "source": [
    "train = pd.DataFrame({\n",
    "    'filename': X_train,\n",
    "    'category': y_train\n",
    "})\n",
    "validation = pd.DataFrame({\n",
    "    'filename': X_val,\n",
    "    'category': y_val\n",
    "})\n",
    "test = pd.DataFrame({\n",
    "    'filename': X_test,\n",
    "    'category': y_test\n",
    "})"
   ]
  },
  {
   "cell_type": "code",
   "execution_count": 9,
   "metadata": {},
   "outputs": [
    {
     "data": {
      "text/html": [
       "<div>\n",
       "<style scoped>\n",
       "    .dataframe tbody tr th:only-of-type {\n",
       "        vertical-align: middle;\n",
       "    }\n",
       "\n",
       "    .dataframe tbody tr th {\n",
       "        vertical-align: top;\n",
       "    }\n",
       "\n",
       "    .dataframe thead th {\n",
       "        text-align: right;\n",
       "    }\n",
       "</style>\n",
       "<table border=\"1\" class=\"dataframe\">\n",
       "  <thead>\n",
       "    <tr style=\"text-align: right;\">\n",
       "      <th></th>\n",
       "      <th>filename</th>\n",
       "      <th>category</th>\n",
       "    </tr>\n",
       "  </thead>\n",
       "  <tbody>\n",
       "    <tr>\n",
       "      <th>0</th>\n",
       "      <td>id_12753_label_27.png</td>\n",
       "      <td>27</td>\n",
       "    </tr>\n",
       "    <tr>\n",
       "      <th>1</th>\n",
       "      <td>id_4705_label_1.png</td>\n",
       "      <td>1</td>\n",
       "    </tr>\n",
       "    <tr>\n",
       "      <th>2</th>\n",
       "      <td>id_3807_label_28.png</td>\n",
       "      <td>28</td>\n",
       "    </tr>\n",
       "    <tr>\n",
       "      <th>3</th>\n",
       "      <td>id_2996_label_11.png</td>\n",
       "      <td>11</td>\n",
       "    </tr>\n",
       "    <tr>\n",
       "      <th>4</th>\n",
       "      <td>id_7682_label_9.png</td>\n",
       "      <td>9</td>\n",
       "    </tr>\n",
       "  </tbody>\n",
       "</table>\n",
       "</div>"
      ],
      "text/plain": [
       "                filename category\n",
       "0  id_12753_label_27.png       27\n",
       "1    id_4705_label_1.png        1\n",
       "2   id_3807_label_28.png       28\n",
       "3   id_2996_label_11.png       11\n",
       "4    id_7682_label_9.png        9"
      ]
     },
     "execution_count": 9,
     "metadata": {},
     "output_type": "execute_result"
    }
   ],
   "source": [
    "train.head()"
   ]
  },
  {
   "cell_type": "code",
   "execution_count": 10,
   "metadata": {},
   "outputs": [],
   "source": [
    "def lebel_fix(category):\n",
    "    if(category):\n",
    "       x=arabic_characters[int(category)-1]\n",
    "    return x"
   ]
  },
  {
   "cell_type": "code",
   "execution_count": 11,
   "metadata": {},
   "outputs": [],
   "source": [
    "train['category']=train['category'].apply(lebel_fix)\n",
    "validation['category']=validation['category'].apply(lebel_fix)\n",
    "test['category']=test['category'].apply(lebel_fix)"
   ]
  },
  {
   "cell_type": "code",
   "execution_count": 12,
   "metadata": {},
   "outputs": [
    {
     "data": {
      "text/html": [
       "<div>\n",
       "<style scoped>\n",
       "    .dataframe tbody tr th:only-of-type {\n",
       "        vertical-align: middle;\n",
       "    }\n",
       "\n",
       "    .dataframe tbody tr th {\n",
       "        vertical-align: top;\n",
       "    }\n",
       "\n",
       "    .dataframe thead th {\n",
       "        text-align: right;\n",
       "    }\n",
       "</style>\n",
       "<table border=\"1\" class=\"dataframe\">\n",
       "  <thead>\n",
       "    <tr style=\"text-align: right;\">\n",
       "      <th></th>\n",
       "      <th>filename</th>\n",
       "      <th>category</th>\n",
       "    </tr>\n",
       "  </thead>\n",
       "  <tbody>\n",
       "    <tr>\n",
       "      <th>0</th>\n",
       "      <td>id_12753_label_27.png</td>\n",
       "      <td>waw</td>\n",
       "    </tr>\n",
       "    <tr>\n",
       "      <th>1</th>\n",
       "      <td>id_4705_label_1.png</td>\n",
       "      <td>alef</td>\n",
       "    </tr>\n",
       "    <tr>\n",
       "      <th>2</th>\n",
       "      <td>id_3807_label_28.png</td>\n",
       "      <td>yeh</td>\n",
       "    </tr>\n",
       "    <tr>\n",
       "      <th>3</th>\n",
       "      <td>id_2996_label_11.png</td>\n",
       "      <td>zain</td>\n",
       "    </tr>\n",
       "    <tr>\n",
       "      <th>4</th>\n",
       "      <td>id_7682_label_9.png</td>\n",
       "      <td>thal</td>\n",
       "    </tr>\n",
       "  </tbody>\n",
       "</table>\n",
       "</div>"
      ],
      "text/plain": [
       "                filename category\n",
       "0  id_12753_label_27.png      waw\n",
       "1    id_4705_label_1.png     alef\n",
       "2   id_3807_label_28.png      yeh\n",
       "3   id_2996_label_11.png     zain\n",
       "4    id_7682_label_9.png     thal"
      ]
     },
     "execution_count": 12,
     "metadata": {},
     "output_type": "execute_result"
    }
   ],
   "source": [
    "train.head()"
   ]
  },
  {
   "cell_type": "code",
   "execution_count": 13,
   "metadata": {},
   "outputs": [
    {
     "data": {
      "text/plain": [
       "<matplotlib.image.AxesImage at 0x7fdb2a47e730>"
      ]
     },
     "execution_count": 13,
     "metadata": {},
     "output_type": "execute_result"
    },
    {
     "data": {
      "image/png": "[encoded data removed]",
      "text/plain": [
       "<Figure size 432x288 with 1 Axes>"
      ]
     },
     "metadata": {
      "needs_background": "light"
     },
     "output_type": "display_data"
    }
   ],
   "source": [
    "image = load_img('./archive/Train Images 13440x32x32/train/'+X_train[2])\n",
    "plt.imshow(image)"
   ]
  },
  {
   "cell_type": "code",
   "execution_count": 14,
   "metadata": {},
   "outputs": [
    {
     "data": {
      "text/plain": [
       "<matplotlib.image.AxesImage at 0x7fdb2a47c520>"
      ]
     },
     "execution_count": 14,
     "metadata": {},
     "output_type": "execute_result"
    },
    {
     "data": {
      "image/png": "[encoded data removed]",
      "text/plain": [
       "<Figure size 432x288 with 1 Axes>"
      ]
     },
     "metadata": {
      "needs_background": "light"
     },
     "output_type": "display_data"
    }
   ],
   "source": [
    "image = load_img('./archive/Test Images 3360x32x32/test/'+X_test[6])\n",
    "plt.imshow(image)"
   ]
  },
  {
   "cell_type": "code",
   "execution_count": 15,
   "metadata": {},
   "outputs": [
    {
     "name": "stdout",
     "output_type": "stream",
     "text": [
      "Model: \"sequential\"\n",
      "_________________________________________________________________\n",
      "Layer (type)                 Output Shape              Param #   \n",
      "=================================================================\n",
      "conv2d (Conv2D)              (None, 30, 30, 32)        320       \n",
      "_________________________________________________________________\n",
      "max_pooling2d (MaxPooling2D) (None, 15, 15, 32)        0         \n",
      "_________________________________________________________________\n",
      "batch_normalization (BatchNo (None, 15, 15, 32)        128       \n",
      "_________________________________________________________________\n",
      "conv2d_1 (Conv2D)            (None, 14, 14, 32)        4128      \n",
      "_________________________________________________________________\n",
      "max_pooling2d_1 (MaxPooling2 (None, 4, 4, 32)          0         \n",
      "_________________________________________________________________\n",
      "batch_normalization_1 (Batch (None, 4, 4, 32)          128       \n",
      "_________________________________________________________________\n",
      "conv2d_2 (Conv2D)            (None, 2, 2, 64)          18496     \n",
      "_________________________________________________________________\n",
      "max_pooling2d_2 (MaxPooling2 (None, 1, 1, 64)          0         \n",
      "_________________________________________________________________\n",
      "batch_normalization_2 (Batch (None, 1, 1, 64)          256       \n",
      "_________________________________________________________________\n",
      "dropout (Dropout)            (None, 1, 1, 64)          0         \n",
      "_________________________________________________________________\n",
      "flatten (Flatten)            (None, 64)                0         \n",
      "_________________________________________________________________\n",
      "dense (Dense)                (None, 512)               33280     \n",
      "_________________________________________________________________\n",
      "batch_normalization_3 (Batch (None, 512)               2048      \n",
      "_________________________________________________________________\n",
      "dropout_1 (Dropout)          (None, 512)               0         \n",
      "_________________________________________________________________\n",
      "dense_1 (Dense)              (None, 256)               131328    \n",
      "_________________________________________________________________\n",
      "dense_2 (Dense)              (None, 28)                7196      \n",
      "=================================================================\n",
      "Total params: 197,308\n",
      "Trainable params: 196,028\n",
      "Non-trainable params: 1,280\n",
      "_________________________________________________________________\n"
     ]
    }
   ],
   "source": [
    "model = Sequential()\n",
    "\n",
    "model.add(Conv2D(32,3, activation='relu', input_shape=size))\n",
    "model.add(MaxPooling2D(pool_size=(2, 2)))\n",
    "model.add(BatchNormalization())\n",
    "model.add(Conv2D(32, (2, 2), activation='relu'))\n",
    "model.add(MaxPooling2D(pool_size=(3, 3)))\n",
    "model.add(BatchNormalization())\n",
    "model.add(Conv2D(64, (3, 3), activation='relu'))\n",
    "model.add(MaxPooling2D(pool_size=(2, 2)))\n",
    "model.add(BatchNormalization())\n",
    "model.add(Dropout(0.2))\n",
    "model.add(Flatten())\n",
    "model.add(Dense(512, activation='relu'))\n",
    "model.add(BatchNormalization())\n",
    "model.add(Dropout(0.2))\n",
    "model.add(Dense(256, activation='relu'))\n",
    "model.add(Dense(28, activation='softmax')) # 28 because we have 28 classes\n",
    "model.compile(loss='categorical_crossentropy', optimizer='adam', metrics=['accuracy'])\n",
    "\n",
    "model.summary()"
   ]
  },
  {
   "cell_type": "code",
   "execution_count": 16,
   "metadata": {},
   "outputs": [],
   "source": [
    "from keras.preprocessing.image import ImageDataGenerator\n",
    "\n",
    "train_datagen = ImageDataGenerator(rescale=1./255)\n",
    "test_datagen = ImageDataGenerator(rescale=1./255)"
   ]
  },
  {
   "cell_type": "code",
   "execution_count": 17,
   "metadata": {},
   "outputs": [],
   "source": [
    "batch=64\n",
    "epoch=100"
   ]
  },
  {
   "cell_type": "code",
   "execution_count": 18,
   "metadata": {},
   "outputs": [
    {
     "name": "stdout",
     "output_type": "stream",
     "text": [
      "Found 12096 validated image filenames belonging to 28 classes.\n"
     ]
    }
   ],
   "source": [
    "training_set = train_datagen.flow_from_dataframe(\n",
    "    train, \n",
    "    \"./archive/Train Images 13440x32x32/train\", \n",
    "    x_col='filename',\n",
    "    y_col='category',\n",
    "    color_mode=\"grayscale\",\n",
    "    target_size=(32,32),\n",
    "    class_mode='categorical',\n",
    "    batch_size=batch\n",
    ")"
   ]
  },
  {
   "cell_type": "code",
   "execution_count": 19,
   "metadata": {},
   "outputs": [
    {
     "name": "stdout",
     "output_type": "stream",
     "text": [
      "Found 1344 validated image filenames belonging to 28 classes.\n"
     ]
    }
   ],
   "source": [
    "val_set = train_datagen.flow_from_dataframe(\n",
    "    validation, \n",
    "    \"./archive/Train Images 13440x32x32/train\", \n",
    "    x_col='filename',\n",
    "    y_col='category',\n",
    "    target_size=(32,32),\n",
    "    color_mode=\"grayscale\",\n",
    "    class_mode='categorical',\n",
    "    batch_size=batch\n",
    ")"
   ]
  },
  {
   "cell_type": "code",
   "execution_count": 20,
   "metadata": {},
   "outputs": [
    {
     "name": "stdout",
     "output_type": "stream",
     "text": [
      "Epoch 1/100\n",
      "189/189 [==============================] - 123s 650ms/step - loss: 1.9866 - accuracy: 0.4087 - val_loss: 2.0373 - val_accuracy: 0.3326\n",
      "Epoch 2/100\n",
      "189/189 [==============================] - 32s 171ms/step - loss: 1.2909 - accuracy: 0.5789 - val_loss: 1.2987 - val_accuracy: 0.5774\n",
      "Epoch 3/100\n",
      "189/189 [==============================] - 33s 177ms/step - loss: 1.0694 - accuracy: 0.6447 - val_loss: 1.0057 - val_accuracy: 0.6749\n",
      "Epoch 4/100\n",
      "189/189 [==============================] - 33s 177ms/step - loss: 0.9122 - accuracy: 0.6968 - val_loss: 0.9471 - val_accuracy: 0.6964\n",
      "Epoch 5/100\n",
      "189/189 [==============================] - 33s 176ms/step - loss: 0.8552 - accuracy: 0.7091 - val_loss: 0.8514 - val_accuracy: 0.7359\n",
      "Epoch 6/100\n",
      "189/189 [==============================] - 33s 173ms/step - loss: 0.8374 - accuracy: 0.7173 - val_loss: 0.8124 - val_accuracy: 0.7426\n",
      "Epoch 7/100\n",
      "189/189 [==============================] - 36s 193ms/step - loss: 0.7692 - accuracy: 0.7391 - val_loss: 0.8184 - val_accuracy: 0.7493\n",
      "Epoch 8/100\n",
      "189/189 [==============================] - 38s 199ms/step - loss: 0.7436 - accuracy: 0.7444 - val_loss: 0.8153 - val_accuracy: 0.7366\n",
      "Epoch 9/100\n",
      "189/189 [==============================] - 38s 203ms/step - loss: 0.7503 - accuracy: 0.7465 - val_loss: 0.8025 - val_accuracy: 0.7396\n",
      "Epoch 10/100\n",
      "189/189 [==============================] - 38s 201ms/step - loss: 0.7080 - accuracy: 0.7612 - val_loss: 0.7539 - val_accuracy: 0.7537\n",
      "Epoch 11/100\n",
      "189/189 [==============================] - 35s 188ms/step - loss: 0.6455 - accuracy: 0.7768 - val_loss: 0.7499 - val_accuracy: 0.7693\n",
      "Epoch 12/100\n",
      "189/189 [==============================] - 36s 193ms/step - loss: 0.6223 - accuracy: 0.7844 - val_loss: 0.7671 - val_accuracy: 0.7567\n",
      "Epoch 13/100\n",
      "189/189 [==============================] - 37s 195ms/step - loss: 0.6046 - accuracy: 0.7897 - val_loss: 0.6328 - val_accuracy: 0.7917\n",
      "Epoch 14/100\n",
      "189/189 [==============================] - 36s 192ms/step - loss: 0.5743 - accuracy: 0.8025 - val_loss: 0.6416 - val_accuracy: 0.7872\n",
      "Epoch 15/100\n",
      "189/189 [==============================] - 37s 197ms/step - loss: 0.5611 - accuracy: 0.8078 - val_loss: 0.6161 - val_accuracy: 0.8006\n",
      "Epoch 16/100\n",
      "189/189 [==============================] - 39s 206ms/step - loss: 0.5459 - accuracy: 0.8117 - val_loss: 0.6444 - val_accuracy: 0.7760\n",
      "Epoch 17/100\n",
      "189/189 [==============================] - 35s 185ms/step - loss: 0.5473 - accuracy: 0.8076 - val_loss: 0.6160 - val_accuracy: 0.7924\n",
      "Epoch 18/100\n",
      "189/189 [==============================] - 36s 191ms/step - loss: 0.5469 - accuracy: 0.8129 - val_loss: 0.6450 - val_accuracy: 0.7902\n",
      "Epoch 19/100\n",
      "189/189 [==============================] - 37s 195ms/step - loss: 0.5231 - accuracy: 0.8166 - val_loss: 0.6851 - val_accuracy: 0.7820\n",
      "Epoch 20/100\n",
      "189/189 [==============================] - 35s 186ms/step - loss: 0.5073 - accuracy: 0.8260 - val_loss: 0.5588 - val_accuracy: 0.8177\n",
      "Epoch 21/100\n",
      "189/189 [==============================] - 35s 185ms/step - loss: 0.4673 - accuracy: 0.8375 - val_loss: 0.6482 - val_accuracy: 0.7887\n",
      "Epoch 22/100\n",
      "189/189 [==============================] - 35s 187ms/step - loss: 0.4626 - accuracy: 0.8371 - val_loss: 0.5559 - val_accuracy: 0.8281\n",
      "Epoch 23/100\n",
      "189/189 [==============================] - 37s 196ms/step - loss: 0.4398 - accuracy: 0.8479 - val_loss: 0.5574 - val_accuracy: 0.8118\n",
      "Epoch 24/100\n",
      "189/189 [==============================] - 36s 189ms/step - loss: 0.4353 - accuracy: 0.8485 - val_loss: 0.6155 - val_accuracy: 0.8013\n",
      "Epoch 25/100\n",
      "189/189 [==============================] - 36s 188ms/step - loss: 0.4362 - accuracy: 0.8491 - val_loss: 0.6009 - val_accuracy: 0.8028\n",
      "Epoch 26/100\n",
      "189/189 [==============================] - 34s 180ms/step - loss: 0.4371 - accuracy: 0.8448 - val_loss: 0.6192 - val_accuracy: 0.8036\n",
      "Epoch 27/100\n",
      "189/189 [==============================] - 33s 173ms/step - loss: 0.4461 - accuracy: 0.8443 - val_loss: 0.6220 - val_accuracy: 0.7976\n",
      "Epoch 28/100\n",
      "189/189 [==============================] - 32s 167ms/step - loss: 0.4312 - accuracy: 0.8446 - val_loss: 0.6080 - val_accuracy: 0.8088\n",
      "Epoch 29/100\n",
      "189/189 [==============================] - 31s 166ms/step - loss: 0.4236 - accuracy: 0.8520 - val_loss: 0.5766 - val_accuracy: 0.8140\n",
      "Epoch 30/100\n",
      "189/189 [==============================] - 34s 181ms/step - loss: 0.4212 - accuracy: 0.8507 - val_loss: 0.5626 - val_accuracy: 0.8207\n",
      "Epoch 31/100\n",
      "189/189 [==============================] - 32s 169ms/step - loss: 0.4208 - accuracy: 0.8538 - val_loss: 0.5823 - val_accuracy: 0.8207\n",
      "Epoch 32/100\n",
      "189/189 [==============================] - 33s 173ms/step - loss: 0.4283 - accuracy: 0.8488 - val_loss: 0.5723 - val_accuracy: 0.8125\n",
      "Epoch 33/100\n",
      "189/189 [==============================] - 33s 174ms/step - loss: 0.4417 - accuracy: 0.8438 - val_loss: 0.5748 - val_accuracy: 0.8132\n",
      "Epoch 34/100\n",
      "189/189 [==============================] - 32s 167ms/step - loss: 0.4560 - accuracy: 0.8394 - val_loss: 0.5978 - val_accuracy: 0.8170\n",
      "Epoch 35/100\n",
      "189/189 [==============================] - 33s 177ms/step - loss: 0.4224 - accuracy: 0.8499 - val_loss: 0.6550 - val_accuracy: 0.7976\n",
      "Epoch 36/100\n",
      "189/189 [==============================] - 33s 174ms/step - loss: 0.4224 - accuracy: 0.8505 - val_loss: 0.5361 - val_accuracy: 0.8318\n",
      "Epoch 37/100\n",
      "189/189 [==============================] - 34s 180ms/step - loss: 0.4213 - accuracy: 0.8536 - val_loss: 0.5502 - val_accuracy: 0.8229\n",
      "Epoch 38/100\n",
      "189/189 [==============================] - 32s 167ms/step - loss: 0.4141 - accuracy: 0.8546 - val_loss: 0.5698 - val_accuracy: 0.8229\n",
      "Epoch 39/100\n",
      "189/189 [==============================] - 32s 172ms/step - loss: 0.3816 - accuracy: 0.8639 - val_loss: 0.5162 - val_accuracy: 0.8326\n",
      "Epoch 40/100\n",
      "189/189 [==============================] - 33s 175ms/step - loss: 0.3740 - accuracy: 0.8686 - val_loss: 0.5201 - val_accuracy: 0.8408\n",
      "Epoch 41/100\n",
      "189/189 [==============================] - 31s 164ms/step - loss: 0.3711 - accuracy: 0.8677 - val_loss: 0.5330 - val_accuracy: 0.8251\n",
      "Epoch 42/100\n",
      "189/189 [==============================] - 33s 174ms/step - loss: 0.3498 - accuracy: 0.8762 - val_loss: 0.5692 - val_accuracy: 0.8162\n",
      "Epoch 43/100\n",
      "189/189 [==============================] - 34s 178ms/step - loss: 0.3488 - accuracy: 0.8771 - val_loss: 0.5268 - val_accuracy: 0.8400\n",
      "Epoch 44/100\n",
      "189/189 [==============================] - 31s 163ms/step - loss: 0.3368 - accuracy: 0.8819 - val_loss: 0.5234 - val_accuracy: 0.8363\n",
      "Epoch 45/100\n",
      "189/189 [==============================] - 33s 177ms/step - loss: 0.3373 - accuracy: 0.8797 - val_loss: 0.5272 - val_accuracy: 0.8393\n",
      "Epoch 46/100\n",
      "189/189 [==============================] - 34s 179ms/step - loss: 0.3519 - accuracy: 0.8767 - val_loss: 0.5977 - val_accuracy: 0.8147\n",
      "Epoch 47/100\n",
      "189/189 [==============================] - 35s 183ms/step - loss: 0.3430 - accuracy: 0.8762 - val_loss: 0.5401 - val_accuracy: 0.8266\n",
      "Epoch 48/100\n",
      "189/189 [==============================] - 32s 170ms/step - loss: 0.3295 - accuracy: 0.8810 - val_loss: 0.5114 - val_accuracy: 0.8385\n",
      "Epoch 49/100\n",
      "189/189 [==============================] - 33s 174ms/step - loss: 0.3181 - accuracy: 0.8845 - val_loss: 0.5241 - val_accuracy: 0.8333\n",
      "Epoch 50/100\n",
      "189/189 [==============================] - 33s 173ms/step - loss: 0.3334 - accuracy: 0.8824 - val_loss: 0.5295 - val_accuracy: 0.8393\n",
      "Epoch 51/100\n",
      "189/189 [==============================] - 33s 173ms/step - loss: 0.3293 - accuracy: 0.8854 - val_loss: 0.5575 - val_accuracy: 0.8207\n",
      "Epoch 52/100\n",
      "189/189 [==============================] - 37s 195ms/step - loss: 0.3393 - accuracy: 0.8761 - val_loss: 0.5304 - val_accuracy: 0.8318\n",
      "Epoch 53/100\n",
      "189/189 [==============================] - 33s 174ms/step - loss: 0.3464 - accuracy: 0.8784 - val_loss: 0.5102 - val_accuracy: 0.8438\n",
      "Epoch 54/100\n",
      "189/189 [==============================] - 32s 170ms/step - loss: 0.3195 - accuracy: 0.8859 - val_loss: 0.5367 - val_accuracy: 0.8296\n",
      "Epoch 55/100\n",
      "189/189 [==============================] - 32s 170ms/step - loss: 0.3247 - accuracy: 0.8845 - val_loss: 0.5037 - val_accuracy: 0.8430\n",
      "Epoch 56/100\n",
      "189/189 [==============================] - 36s 189ms/step - loss: 0.3080 - accuracy: 0.8905 - val_loss: 0.5226 - val_accuracy: 0.8304\n"
     ]
    },
    {
     "name": "stdout",
     "output_type": "stream",
     "text": [
      "Epoch 57/100\n",
      "189/189 [==============================] - 34s 182ms/step - loss: 0.3916 - accuracy: 0.8714 - val_loss: 0.4957 - val_accuracy: 0.8385\n",
      "Epoch 58/100\n",
      "189/189 [==============================] - 31s 166ms/step - loss: 0.3690 - accuracy: 0.8708 - val_loss: 0.5023 - val_accuracy: 0.8423\n",
      "Epoch 59/100\n",
      "189/189 [==============================] - 33s 173ms/step - loss: 0.3386 - accuracy: 0.8788 - val_loss: 0.5116 - val_accuracy: 0.8385\n",
      "Epoch 60/100\n",
      "189/189 [==============================] - 35s 185ms/step - loss: 0.3388 - accuracy: 0.8774 - val_loss: 0.6195 - val_accuracy: 0.8125\n",
      "Epoch 61/100\n",
      "189/189 [==============================] - 34s 182ms/step - loss: 0.3209 - accuracy: 0.8862 - val_loss: 0.5733 - val_accuracy: 0.8326\n",
      "Epoch 62/100\n",
      "189/189 [==============================] - 33s 173ms/step - loss: 0.3195 - accuracy: 0.8857 - val_loss: 0.5439 - val_accuracy: 0.8438\n",
      "Epoch 63/100\n",
      "189/189 [==============================] - 33s 173ms/step - loss: 0.3270 - accuracy: 0.8897 - val_loss: 0.5295 - val_accuracy: 0.8393\n",
      "Epoch 64/100\n",
      "189/189 [==============================] - 35s 185ms/step - loss: 0.3148 - accuracy: 0.8905 - val_loss: 0.5424 - val_accuracy: 0.8378\n",
      "Epoch 65/100\n",
      "189/189 [==============================] - 32s 168ms/step - loss: 0.3058 - accuracy: 0.8919 - val_loss: 0.5932 - val_accuracy: 0.8222\n",
      "Epoch 66/100\n",
      "189/189 [==============================] - 33s 177ms/step - loss: 0.3071 - accuracy: 0.8915 - val_loss: 0.5804 - val_accuracy: 0.8214\n",
      "Epoch 67/100\n",
      "189/189 [==============================] - 31s 164ms/step - loss: 0.2993 - accuracy: 0.8919 - val_loss: 0.5890 - val_accuracy: 0.8281\n",
      "Epoch 68/100\n",
      "189/189 [==============================] - 33s 176ms/step - loss: 0.2949 - accuracy: 0.8953 - val_loss: 0.5445 - val_accuracy: 0.8467\n",
      "Epoch 69/100\n",
      "189/189 [==============================] - 35s 183ms/step - loss: 0.2782 - accuracy: 0.9034 - val_loss: 0.6041 - val_accuracy: 0.8237\n",
      "Epoch 70/100\n",
      "189/189 [==============================] - 34s 180ms/step - loss: 0.2863 - accuracy: 0.8983 - val_loss: 0.5221 - val_accuracy: 0.8445\n",
      "Epoch 71/100\n",
      "189/189 [==============================] - 35s 186ms/step - loss: 0.2796 - accuracy: 0.9012 - val_loss: 0.5193 - val_accuracy: 0.8497\n",
      "Epoch 72/100\n",
      "189/189 [==============================] - 34s 179ms/step - loss: 0.2712 - accuracy: 0.9041 - val_loss: 0.5988 - val_accuracy: 0.8296\n",
      "Epoch 73/100\n",
      "189/189 [==============================] - 35s 185ms/step - loss: 0.2954 - accuracy: 0.8949 - val_loss: 0.6475 - val_accuracy: 0.8192\n",
      "Epoch 74/100\n",
      "189/189 [==============================] - 35s 185ms/step - loss: 0.2890 - accuracy: 0.8986 - val_loss: 0.5400 - val_accuracy: 0.8490\n",
      "Epoch 75/100\n",
      "189/189 [==============================] - 34s 181ms/step - loss: 0.2924 - accuracy: 0.8967 - val_loss: 0.6385 - val_accuracy: 0.8095\n",
      "Epoch 76/100\n",
      "189/189 [==============================] - 34s 179ms/step - loss: 0.3354 - accuracy: 0.8829 - val_loss: 0.6655 - val_accuracy: 0.7991\n",
      "Epoch 77/100\n",
      "189/189 [==============================] - 33s 174ms/step - loss: 0.3234 - accuracy: 0.8874 - val_loss: 0.5973 - val_accuracy: 0.8289\n",
      "Epoch 78/100\n",
      "189/189 [==============================] - 34s 179ms/step - loss: 0.3032 - accuracy: 0.8919 - val_loss: 0.5749 - val_accuracy: 0.8296\n",
      "Epoch 79/100\n",
      "189/189 [==============================] - 34s 180ms/step - loss: 0.3011 - accuracy: 0.8948 - val_loss: 0.5428 - val_accuracy: 0.8430\n",
      "Epoch 80/100\n",
      "189/189 [==============================] - 34s 181ms/step - loss: 0.2919 - accuracy: 0.8958 - val_loss: 0.5615 - val_accuracy: 0.8356\n",
      "Epoch 81/100\n",
      "189/189 [==============================] - 36s 189ms/step - loss: 0.2925 - accuracy: 0.8991 - val_loss: 0.5472 - val_accuracy: 0.8445\n",
      "Epoch 82/100\n",
      "189/189 [==============================] - 34s 179ms/step - loss: 0.2839 - accuracy: 0.8986 - val_loss: 0.5791 - val_accuracy: 0.8452\n",
      "Epoch 83/100\n",
      "189/189 [==============================] - 33s 177ms/step - loss: 0.2848 - accuracy: 0.8986 - val_loss: 0.5759 - val_accuracy: 0.8318\n",
      "Epoch 84/100\n",
      "189/189 [==============================] - 37s 196ms/step - loss: 0.2702 - accuracy: 0.9039 - val_loss: 0.5292 - val_accuracy: 0.8497\n",
      "Epoch 85/100\n",
      "189/189 [==============================] - 33s 173ms/step - loss: 0.2725 - accuracy: 0.9021 - val_loss: 0.5206 - val_accuracy: 0.8579\n",
      "Epoch 86/100\n",
      "189/189 [==============================] - 35s 186ms/step - loss: 0.2855 - accuracy: 0.8981 - val_loss: 0.6155 - val_accuracy: 0.8311\n",
      "Epoch 87/100\n",
      "189/189 [==============================] - 34s 180ms/step - loss: 0.2905 - accuracy: 0.8972 - val_loss: 0.5246 - val_accuracy: 0.8527\n",
      "Epoch 88/100\n",
      "189/189 [==============================] - 36s 189ms/step - loss: 0.3086 - accuracy: 0.8894 - val_loss: 0.5191 - val_accuracy: 0.8467\n",
      "Epoch 89/100\n",
      "189/189 [==============================] - 34s 181ms/step - loss: 0.3112 - accuracy: 0.8909 - val_loss: 0.5287 - val_accuracy: 0.8527\n",
      "Epoch 90/100\n",
      "189/189 [==============================] - 35s 183ms/step - loss: 0.2897 - accuracy: 0.8988 - val_loss: 0.5354 - val_accuracy: 0.8482\n",
      "Epoch 91/100\n",
      "189/189 [==============================] - 34s 180ms/step - loss: 0.2806 - accuracy: 0.8999 - val_loss: 0.5517 - val_accuracy: 0.8445\n",
      "Epoch 92/100\n",
      "189/189 [==============================] - 35s 186ms/step - loss: 0.2686 - accuracy: 0.9055 - val_loss: 0.5421 - val_accuracy: 0.8482\n",
      "Epoch 93/100\n",
      "189/189 [==============================] - 35s 184ms/step - loss: 0.2668 - accuracy: 0.9074 - val_loss: 0.5398 - val_accuracy: 0.8385\n",
      "Epoch 94/100\n",
      "189/189 [==============================] - 33s 177ms/step - loss: 0.2885 - accuracy: 0.8972 - val_loss: 0.5246 - val_accuracy: 0.8519\n",
      "Epoch 95/100\n",
      "189/189 [==============================] - 38s 199ms/step - loss: 0.2772 - accuracy: 0.9002 - val_loss: 0.5556 - val_accuracy: 0.8430\n",
      "Epoch 96/100\n",
      "189/189 [==============================] - 33s 174ms/step - loss: 0.2646 - accuracy: 0.9091 - val_loss: 0.5798 - val_accuracy: 0.8326\n",
      "Epoch 97/100\n",
      "189/189 [==============================] - 33s 174ms/step - loss: 0.2741 - accuracy: 0.9025 - val_loss: 0.5308 - val_accuracy: 0.8512\n",
      "Epoch 98/100\n",
      "189/189 [==============================] - 32s 171ms/step - loss: 0.2691 - accuracy: 0.9010 - val_loss: 0.5438 - val_accuracy: 0.8482\n",
      "Epoch 99/100\n",
      "189/189 [==============================] - 32s 171ms/step - loss: 0.2786 - accuracy: 0.9029 - val_loss: 0.5848 - val_accuracy: 0.8289\n",
      "Epoch 100/100\n",
      "189/189 [==============================] - 33s 174ms/step - loss: 0.2641 - accuracy: 0.9072 - val_loss: 0.4999 - val_accuracy: 0.8519\n"
     ]
    },
    {
     "data": {
      "text/plain": [
       "<tensorflow.python.keras.callbacks.History at 0x7fdb2066c520>"
      ]
     },
     "execution_count": 20,
     "metadata": {},
     "output_type": "execute_result"
    }
   ],
   "source": [
    "model.fit(training_set,\n",
    "          steps_per_epoch = len(training_set),\n",
    "          epochs = epoch,\n",
    "          validation_data = val_set,\n",
    "          validation_steps=len(val_set))"
   ]
  },
  {
   "cell_type": "code",
   "execution_count": 21,
   "metadata": {},
   "outputs": [
    {
     "name": "stdout",
     "output_type": "stream",
     "text": [
      "Found 3360 validated image filenames belonging to 28 classes.\n",
      "336/336 [==============================] - 26s 76ms/step - loss: 0.5387 - accuracy: 0.8571\n",
      "\n",
      " Test accuracy: 85.71428656578064\n"
     ]
    }
   ],
   "source": [
    "test_set = test_datagen.flow_from_dataframe(\n",
    "    test, \n",
    "    \"./archive/Test Images 3360x32x32/test\", \n",
    "    x_col='filename',\n",
    "    y_col='category',\n",
    "    target_size=(32,32),\n",
    "    color_mode=\"grayscale\",\n",
    "    class_mode='categorical',\n",
    "    batch_size=10\n",
    ")\n",
    "score=model.evaluate(test_set)\n",
    "print('\\n', 'Test accuracy:', score[1]*100)"
   ]
  },
  {
   "cell_type": "code",
   "execution_count": 22,
   "metadata": {},
   "outputs": [
    {
     "name": "stdout",
     "output_type": "stream",
     "text": [
      "WARNING:tensorflow:From /home/mint/anaconda3/lib/python3.8/site-packages/tensorflow/python/ops/resource_variable_ops.py:1813: calling BaseResourceVariable.__init__ (from tensorflow.python.ops.resource_variable_ops) with constraint is deprecated and will be removed in a future version.\n",
      "Instructions for updating:\n",
      "If using Keras pass *_constraint arguments to layers.\n",
      "INFO:tensorflow:Assets written to: arabic/assets\n"
     ]
    }
   ],
   "source": [
    "model.save('arabic')"
   ]
  },
  {
   "cell_type": "code",
   "execution_count": 23,
   "metadata": {},
   "outputs": [],
   "source": [
    "#model = keras.models.load_model('arabic')"
   ]
  },
  {
   "cell_type": "code",
   "execution_count": 24,
   "metadata": {},
   "outputs": [],
   "source": [
    "label_map = dict((v,k) for k,v in training_set.class_indices.items())"
   ]
  },
  {
   "cell_type": "code",
   "execution_count": 25,
   "metadata": {},
   "outputs": [],
   "source": [
    "sample = np.random.choice(X_test)\n",
    "image = load_img('./archive/Test Images 3360x32x32/test/'+sample,color_mode='grayscale')\n",
    "img=img_to_array(image).reshape(-1,32,32,1)\n",
    "predict=model.predict(img)\n",
    "predict=np.argmax(predict,axis = 1)"
   ]
  },
  {
   "cell_type": "code",
   "execution_count": 26,
   "metadata": {},
   "outputs": [
    {
     "name": "stdout",
     "output_type": "stream",
     "text": [
      "The character is :  theh\n"
     ]
    }
   ],
   "source": [
    "print(\"The character is : \",label_map[predict[0]])"
   ]
  },
  {
   "cell_type": "code",
   "execution_count": 27,
   "metadata": {},
   "outputs": [
    {
     "data": {
      "text/plain": [
       "<matplotlib.image.AxesImage at 0x7fdacc6f0070>"
      ]
     },
     "execution_count": 27,
     "metadata": {},
     "output_type": "execute_result"
    },
    {
     "data": {
      "image/png": "[encoded data removed]",
      "text/plain": [
       "<Figure size 432x288 with 1 Axes>"
      ]
     },
     "metadata": {
      "needs_background": "light"
     },
     "output_type": "display_data"
    }
   ],
   "source": [
    "plt.imshow(image)"
   ]
  },
  {
   "cell_type": "code",
   "execution_count": 28,
   "metadata": {},
   "outputs": [
    {
     "name": "stdout",
     "output_type": "stream",
     "text": [
      "Found 3360 validated image filenames.\n"
     ]
    }
   ],
   "source": [
    "test_set = test_datagen.flow_from_dataframe(\n",
    "    test, \n",
    "    \"./archive/Test Images 3360x32x32/test\", \n",
    "    x_col='filename',\n",
    "    target_size=(32,32),\n",
    "    color_mode=\"grayscale\",\n",
    "    class_mode=None,\n",
    "    shuffle=False\n",
    ")"
   ]
  },
  {
   "cell_type": "code",
   "execution_count": 29,
   "metadata": {},
   "outputs": [],
   "source": [
    "predict=model.predict(test_set)\n",
    "predict=np.argmax(predict,axis = 1)"
   ]
  },
  {
   "cell_type": "code",
   "execution_count": 30,
   "metadata": {},
   "outputs": [],
   "source": [
    "y_p=[]\n",
    "for i in range(len(y_test)):\n",
    "    y_p.append(label_map[predict[i]])"
   ]
  },
  {
   "cell_type": "code",
   "execution_count": 31,
   "metadata": {},
   "outputs": [],
   "source": [
    "from sklearn.metrics import confusion_matrix\n",
    "cm = confusion_matrix(y_p,test['category'])"
   ]
  },
  {
   "cell_type": "code",
   "execution_count": 32,
   "metadata": {},
   "outputs": [
    {
     "name": "stdout",
     "output_type": "stream",
     "text": [
      "accuracy = 0.8571428571428571\n"
     ]
    }
   ],
   "source": [
    "accuracy = sum(cm[i][i] for i in range(28)) / len(y_test)\n",
    "print(\"accuracy = \" + str(accuracy))"
   ]
  },
  {
   "cell_type": "code",
   "execution_count": null,
   "metadata": {},
   "outputs": [],
   "source": []
  }
 ],
 "metadata": {
  "kernelspec": {
   "display_name": "Python 3",
   "language": "python",
   "name": "python3"
  },
  "language_info": {
   "codemirror_mode": {
    "name": "ipython",
    "version": 3
   },
   "file_extension": ".py",
   "mimetype": "text/x-python",
   "name": "python",
   "nbconvert_exporter": "python",
   "pygments_lexer": "ipython3",
   "version": "3.8.5"
  }
 },
 "nbformat": 4,
 "nbformat_minor": 4
}
